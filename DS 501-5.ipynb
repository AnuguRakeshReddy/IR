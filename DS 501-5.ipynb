{
 "cells": [
  {
   "cell_type": "code",
   "execution_count": 1,
   "metadata": {},
   "outputs": [
    {
     "name": "stdout",
     "output_type": "stream",
     "text": [
      "Requirement already satisfied: nltk in c:\\users\\wierd\\anaconda3\\lib\\site-packages (3.5)\n",
      "Requirement already satisfied: regex in c:\\users\\wierd\\anaconda3\\lib\\site-packages (from nltk) (2020.6.8)\n",
      "Requirement already satisfied: tqdm in c:\\users\\wierd\\anaconda3\\lib\\site-packages (from nltk) (4.47.0)\n",
      "Requirement already satisfied: click in c:\\users\\wierd\\anaconda3\\lib\\site-packages (from nltk) (7.1.2)\n",
      "Requirement already satisfied: joblib in c:\\users\\wierd\\anaconda3\\lib\\site-packages (from nltk) (0.16.0)\n",
      "Note: you may need to restart the kernel to use updated packages.\n"
     ]
    }
   ],
   "source": [
    "pip install nltk"
   ]
  },
  {
   "cell_type": "code",
   "execution_count": 2,
   "metadata": {},
   "outputs": [
    {
     "name": "stdout",
     "output_type": "stream",
     "text": [
      "Requirement already satisfied: google in c:\\users\\wierd\\anaconda3\\lib\\site-packages (3.0.0)\n",
      "Requirement already satisfied: beautifulsoup4 in c:\\users\\wierd\\anaconda3\\lib\\site-packages (from google) (4.9.1)\n",
      "Requirement already satisfied: soupsieve>1.2 in c:\\users\\wierd\\anaconda3\\lib\\site-packages (from beautifulsoup4->google) (2.0.1)\n",
      "Note: you may need to restart the kernel to use updated packages.\n"
     ]
    }
   ],
   "source": [
    "pip install google"
   ]
  },
  {
   "cell_type": "markdown",
   "metadata": {},
   "source": [
    "### Searching results for 50 url's, as we are getting vedio links."
   ]
  },
  {
   "cell_type": "code",
   "execution_count": 3,
   "metadata": {
    "scrolled": true
   },
   "outputs": [
    {
     "name": "stdout",
     "output_type": "stream",
     "text": [
      "['https://undergrad.cs.umd.edu/what-computer-science', 'https://en.wikipedia.org/wiki/Computer_science', 'https://en.wikipedia.org/wiki/Computer_science_and_engineering', 'https://en.wikipedia.org/wiki/Outline_of_computer_science', 'https://en.wikipedia.org/wiki/History_of_computer_science', 'https://www.britannica.com/science/computer-science', 'https://www.edx.org/course/subject/computer-science', 'https://www.topuniversities.com/courses/computer-science-information-systems/guide', 'https://www.khanacademy.org/computing/computer-science', 'https://www.internationalstudent.com/study-computer-science/what-is-computer-science/', 'https://www.coursera.org/browse/computer-science', 'https://www.youtube.com/watch?v=ReVeUvwTGdU', 'https://engineering.buffalo.edu/computer-science-engineering.html', 'https://www.seas.harvard.edu/computer-science', 'https://www.computerscience.org/', 'https://engineering.virginia.edu/departments/computer-science', 'https://cse.umn.edu/cs', 'https://engineering.tamu.edu/cse/index.html', 'https://www.timeshighereducation.com/student/what-to-study/computer-science', 'https://www.usnews.com/best-graduate-schools/top-science-schools/computer-science-rankings', 'https://arxiv.org/archive/cs', 'https://www.iit.edu/computer-science', 'https://www.stevens.edu/schaefer-school-engineering-science/departments/computer-science', 'https://www.ou.edu/coe/cs', 'https://www.soe.ucsc.edu/departments/computer-science-and-engineering', 'https://www.sciencedaily.com/news/computers_math/computer_science/', 'https://github.com/ossu/computer-science', 'https://www.codecademy.com/learn/paths/computer-science', 'https://www.csedweek.org/', 'https://www.mccormick.northwestern.edu/computer-science/', 'https://science.rpi.edu/computer-science', 'https://www.cs.purdue.edu/', 'http://cpsc.yale.edu/welcome', 'https://www.cs.stonybrook.edu/', 'https://www.classcentral.com/subject/cs', 'https://www.mastersportal.com/articles/434/5-study-tips-that-will-make-you-a-successful-computer-science-student.html', 'https://exploredegrees.stanford.edu/schoolofengineering/computerscience/', 'https://peerj.com/computer-science/', 'https://www.ibo.org/programmes/diploma-programme/curriculum/sciences/computer-science/', 'https://www.colorado.edu/cs/', 'https://www.cs.usc.edu/', 'https://brilliant.org/computer-science/', 'https://www.prospects.ac.uk/careers-advice/what-can-i-do-with-my-degree/computer-science', 'https://www.uwindsor.ca/science/computerscience/', 'https://www.bollyinside.com/news/technology/p-tech-program-helps-local-high-school-students-achieve-associate-degree-in-computer-science-local-news/', 'https://educationblog.microsoft.com/en-us/2021/02/reimagining-computer-science-in-the-curriculum/', 'https://www.i-programmer.info/news/150-training-a-education/14317-100-hours-of-computer-science-videos-by-the-raspberry-pi-foundation.html', 'https://www.cics.umass.edu/', 'https://www.sciencedirect.com/journal/procedia-computer-science', 'https://www.worldscientific.com/page/compsci', 'https://www.shiksha.com/b-tech/articles/iits-in-india-blogId-12884?sa=X&ved=2ahUKEwiPuPGcgPvuAhUPs54KHcTZAZ8Q9QF6BAgFEAI', 'https://www.shiksha.com/b-tech/articles/iits-in-india-blogId-12884', 'https://en.wikipedia.org/wiki/Indian_Institutes_of_Technology', 'https://en.wikipedia.org/wiki/IIT_Roorkee', 'https://en.wikipedia.org/wiki/IIT_Dharwad', 'https://en.wikipedia.org/wiki/IIT_Bombay', 'https://en.wikipedia.org/wiki/IIT_Goa', 'https://www.collegedekho.com/articles/list-of-iit-colleges-in-india-admission-basis-jee-advanced/', 'https://engineering.careers360.com/colleges/list-of-top-iit-colleges-in-india', 'https://www.aicte-india.org/education/institutions/IITs', 'https://en.wikipedia.org/wiki/IIT_Kharagpur', 'https://collegedunia.com/iits-in-india', 'https://www.mapsofindia.com/my-india/education/list-of-indian-institute-of-technology-colleges-in-india', 'http://www.iitd.ac.in/', 'http://www.studyguideindia.com/Colleges/IIT/', 'https://byjus.com/jee/top-iits-in-india/', 'https://www.iitsystem.ac.in/?q=history/view', 'https://www.iitsystem.ac.in/?q=aboutiit/view', 'https://www.thehindu.com/opinion/op-ed/too-many-iits-unrealistic-expectations/article33883323.ece', 'https://timesofindia.indiatimes.com/city/kolkata/wa-groups-drive-islamophobia-iit-mit-study/articleshow/81103164.cms', 'https://swarajyamag.com/politics/a-fake-islamophobia-narrative-from-whatsapp-university-courtesy-iit-mit', 'https://www.collegesearch.in/exam/jee-advanced/article/top-10-iits-in-india-2020-29-174', 'https://www.getmyuni.com/college/articles/all-iits-in-india', 'https://raoiit.com/about-iit.php', 'https://www.embibe.com/exams/iit-rankings/', 'https://www.insidehighered.com/blogs/world-view/who-gets-india%E2%80%99s-iits', 'http://www.academics-india.com/iit.htm', 'https://www.indiaeducation.net/iit/', 'https://scoop.eduncle.com/list-of-iits-and-complete-details', 'https://timesofindia.indiatimes.com/home/education/news/top-iit-colleges-in-india-rank-wise/articleshow/76360230.cms', 'https://timesofindia.indiatimes.com/topic/indian-institutes-of-technology', 'https://www.edufever.com/list-of-iit-in-india/', 'https://www.encyclopedia.com/international/encyclopedias-almanacs-transcripts-and-maps/indian-institutes-technology-iits', 'https://www.iitb.ac.in/', 'https://www.iitm.ac.in/', 'https://www.eduvidya.com/IIT-Colleges-in-India', 'https://www.vedantu.com/iit-jee/iit-colleges-in-india', 'https://www.hindustantimes.com/india/govt-proposes-to-set-up-three-new-iits/story-6qqdENtuj2KvtSHCZrrHuL.html', 'https://www.iitbbs.ac.in/link-to-other-iits.php', 'https://targetstudy.com/iit/', 'https://www.iitr.ac.in/', 'https://m.economictimes.com/industry/services/education/in-a-first-india-located-jobs-getting-higher-pay-than-abroad-in-iit-placements/articleshow/79689194.cms', 'https://www.quora.com/How-many-IITs-are-there-in-India-as-of-2018', 'https://theprint.in/india/education/govt-initiates-plan-for-iits-and-other-top-indian-institutes-to-open-campuses-abroad/490932/', 'https://www.livemint.com/news/india/super-failure-horrors-of-iit-dream-1563901414369.html', 'http://www.iit.club/', 'https://www.youtube.com/watch?v=o-n7I6fQ2lE', 'https://www.india.gov.in/list-indian-institutes-technology-iits', 'https://www.education.gov.in/en/iits', 'https://www.iitk.ac.in/', 'https://www.worldlistmania.com/list-largest-cities-chhattisgarh/', 'https://en.wikipedia.org/wiki/List_of_cities_in_Chhattisgarh_by_population', 'https://www.ixigo.com/cities-in-chhattisgarh-lp-1273184', 'https://en.wikivoyage.org/wiki/Chhattisgarh', 'https://www.citypopulation.de/en/india/chhattisgarh/', 'https://www.youtube.com/watch?v=Z66Z1fZUZRw', 'https://censusindia.gov.in/towns/chh_towns.pdf', 'https://www.indianholiday.com/chhattisgarh/cities/', 'http://www.famousplacesinindia.in/Chhattisgarh/Famous-Cities-in-Chhattisgarh.aspx', 'https://chhattisgarh.pscnotes.com/chhatttisgarh-geography/chattishgarh-major-cities-and-tourist-places/', 'http://explore-chhattisgarh.blogspot.com/2010/01/cities-of-chhattisgarh.html', 'https://www.mapsofindia.com/maps/chhattisgarh/cities.html', 'https://www.britannica.com/place/Chhattisgarh', 'https://www.chips.gov.in/our-state', 'https://www.chips.gov.in/smart-city', 'https://www.hindustantimes.com/india-news/chhattisgarh-extends-lockdown-in-major-cities-till-aug-6-cites-rise-in-cases/story-h3N4FwOBs8zYDyEmfj4U3N.html', 'https://swachhindia.ndtv.com/air-pollution-chhattisgarh-bans-firecrackers-in-six-cities-28631/', 'https://india.smartcitiescouncil.com/cities/raipur-chhattisgarh', 'https://raipur.gov.in/', 'https://www.wikizero.com/en/List_of_cities_in_Chhattisgarh_by_population', 'https://www.flipkart.com/cities-towns-chhattisgarh/p/itm611854f34b1fe', 'https://www.downtoearth.org.in/blog/new-raipur-and-new-chhattisgarh-in-old-india-48622', 'https://www.dra.net.in/project/consulting-services-for-amrut-mission-management-unit-ammu-in-chhattisgarh-for-9-mission-cities-selected-for-amrut-mission/', 'https://www.census2011.co.in/census/city/280-raipur.html', 'https://www.bloombergquint.com/labs/chhattisgarh/ridethegrowth/six-things-that-make-atal-nagar-the-worlds-first-integrated-city.html', 'http://smartcities.gov.in/content/citytender.php?statid=7&disid=117&catid=3', 'https://villageinfo.in/chhattisgarh.html', 'https://stores.lenskart.com/location/chhattisgarh', 'https://www.nationsonline.org/oneworld/map/google_map_Chhattisgarh.htm', 'http://tcp.cg.gov.in/index-Eng.html', 'https://www.newindianexpress.com/nation/2020/sep/22/chhattisgarh-cm-bhupesh-baghelseeks-flight-services-from-bilaspur-to-metro-cities-2200369.html', 'https://www.amazon.in/Cities-Towns-Bilaspur-District-Chhattisgarh/dp/1155433300', 'https://wikitravel.org/en/Chhattisgarh', 'https://www.dnaindia.com/india/report-garbage-free-cities-chhattisgarh-s-ambikapur-among-5-star-cities-65-get-3-stars-2825348', 'https://surguja.gov.in/how-to-reach/', 'https://www.travelmath.com/cities-in/Chhattisgarh', 'https://www.tripadvisor.in/Attractions-g297594-Activities-Chhattisgarh.html', 'https://www.roughguides.com/india/madhya-pradesh-chhattisgarh/', 'https://enviscecb.org/', 'https://csidc.in/home2/index.php/en/2015-01-25-06-37-18/how-to-reach/by-road', 'https://timesofindia.indiatimes.com/city/raipur', 'https://wiki.openstreetmap.org/wiki/Category:Cities_in_Chhattisgarh', 'https://janjgir-champa.gov.in/en/home5/tourism/how-to-reach/', 'https://www.india.com/travel/raipur/', 'https://distancecalculator.globefeed.com/India_Distance_Calculator.asp?state=37', 'https://www.meity.gov.in/writereaddata/files/Government%20of%20Chhattisgarh_Electronics_policy.pdf', 'https://www.thrillophilia.com/places-to-visit-in-chhattisgarh', 'https://www.skymetweather.com/forecast/weather/india/chhattisgarh', 'https://www.theweek.in/news/india/chhattisgarh-bans-crackers-in-6-cities-for-two-months.html', 'https://navaraipuratalnagar.com/wps/portal/nrdahome/smartcity/']\n"
     ]
    }
   ],
   "source": [
    "try: \n",
    "    from googlesearch import search \n",
    "except ImportError:  \n",
    "    print(\"No module named 'google' found\") \n",
    "  \n",
    "# to search \n",
    "query = [\"Computer Science\", \"IITs in India\", \"Cities of Chatisgarh\"]\n",
    "\n",
    "ur = []\n",
    "for item in query:\n",
    "    for j in search(item, tld=\"co.in\", num=50, stop=50, pause=2): \n",
    "        ur.append(j)\n",
    "\n",
    "print(ur)"
   ]
  },
  {
   "cell_type": "code",
   "execution_count": 4,
   "metadata": {},
   "outputs": [
    {
     "data": {
      "text/plain": [
       "'https://navaraipuratalnagar.com/wps/portal/nrdahome/smartcity/'"
      ]
     },
     "execution_count": 4,
     "metadata": {},
     "output_type": "execute_result"
    }
   ],
   "source": [
    "ur[149]"
   ]
  },
  {
   "cell_type": "code",
   "execution_count": null,
   "metadata": {},
   "outputs": [],
   "source": [
    "# import module \n",
    "import requests \n",
    "import pandas as pd \n",
    "from bs4 import BeautifulSoup \n",
    "from time import sleep \n",
    "\n",
    "# link for extract html data \n",
    "\n",
    "\n",
    "stopper = 0 \n",
    "#stopper help us to count the number of url's containing two paragraphs.\n",
    "stopper_1 = 0\n",
    "#stopper_1 will shift the querry if the stopper reaches 20, which is the required data.\n",
    "i = 0\n",
    "l = []\n",
    "ur2 = []\n",
    "while(i<150):\n",
    "    print(i,stopper) \n",
    "    def getdata(url):\n",
    "        r = requests.get(url)\n",
    "        return r.text \n",
    "    ss = ''\n",
    "    ss = ss + ur[i]\n",
    "    \n",
    "    htmldata = getdata(ss) \n",
    "    soup = BeautifulSoup(htmldata, 'html.parser') \n",
    "    data = \"\"\n",
    "    k = 0\n",
    "    \n",
    "    a = []\n",
    "    if i == 19:\n",
    "        return None\n",
    "    for data in soup.find_all(\"p\"):\n",
    "        if(data.get_text() != \"\" ):\n",
    "            k = k + 1\n",
    "            a.append(data.get_text())\n",
    "        if k>=2 :\n",
    "            stopper =  stopper + 1\n",
    "            b = a[0] + a[1]\n",
    "            l.append(b)\n",
    "            ur2.append(ur[i])\n",
    "            break\n",
    "    if(stopper == 20):\n",
    "        stopper = 0\n",
    "        stopper_1 = stopper_1 + 1\n",
    "        if(stopper_1 == 1):\n",
    "            i = 49\n",
    "        if(stopper_1 == 2):\n",
    "            i = 99\n",
    "        if(stopper_1 == 3):\n",
    "            break\n",
    "    i = i + 1\n",
    "    sleep(1)\n",
    "print(l)\n",
    "print(ur2)\n",
    "        "
   ]
  },
  {
   "cell_type": "code",
   "execution_count": null,
   "metadata": {},
   "outputs": [],
   "source": [
    "ur2"
   ]
  },
  {
   "cell_type": "code",
   "execution_count": null,
   "metadata": {},
   "outputs": [],
   "source": [
    "from nltk.tokenize import word_tokenize\n",
    "import string\n",
    "import nltk \n",
    "nltk.download('punkt')\n",
    "from nltk.corpus import stopwords \n",
    "nltk.download('stopwords')\n",
    "from nltk.stem import WordNetLemmatizer \n",
    "nltk.download('wordnet')\n",
    "from nltk.stem import PorterStemmer  \n",
    "\n",
    "\n",
    "def procesd_data_string(test_str):\n",
    "    # initializing punctuations string  \n",
    "    punc = '''!()-[]{};:'\"\\, <>./?@#$%^&*_~'''\n",
    "    # Removing punctuations in string \n",
    "    # Using loop + punctuation string \n",
    "    for ele in test_str:  \n",
    "        if ele in punc:  \n",
    "            test_str = test_str.replace(ele, \" \")  \n",
    "  \n",
    "    #removing numbers\n",
    "    test_str = ''.join([i for i in test_str if not i.isdigit()])\n",
    "    #lower casing all the alphabets\n",
    "    test_str = test_str.lower()\n",
    "    for i in range(1): \n",
    "        # this will convert \n",
    "        # the word into tokens \n",
    "        text_tokens = word_tokenize(test_str)\n",
    "        #removing stopwords\n",
    "    tokens_without_sw = [ \n",
    "        word for word in text_tokens if not word in stopwords.words()] \n",
    "    #using lemmatization\n",
    "    lem = WordNetLemmatizer() \n",
    "    for i in range(len(tokens_without_sw)):\n",
    "        tokens_without_sw[i] = lem.lemmatize(tokens_without_sw[i])\n",
    "    #using stemming \n",
    "    ps = PorterStemmer()\n",
    "    for i in range(len(tokens_without_sw)):\n",
    "        tokens_without_sw[i] = ps.stem(tokens_without_sw[i])\n",
    "    for i in range(len(tokens_without_sw)):\n",
    "        #removing \"'\" from the words, it will remain even after removing punctuations. like mother's\n",
    "        tokens_without_sw[i] = tokens_without_sw[i].replace(\"'\",\" \")\n",
    "    return tokens_without_sw\n",
    "        \n",
    "\n",
    "list1 = []\n",
    "for i in range(60):\n",
    "    clean_list = procesd_data_string(l[i])\n",
    "    #appending the clean list into list1\n",
    "    list1.append(clean_list)\n",
    "list1"
   ]
  },
  {
   "cell_type": "code",
   "execution_count": null,
   "metadata": {},
   "outputs": [],
   "source": [
    "len(l)"
   ]
  },
  {
   "cell_type": "markdown",
   "metadata": {},
   "source": [
    "### Creating the inverted index and also added the term frequency in each document for easier calculation to future reference."
   ]
  },
  {
   "cell_type": "markdown",
   "metadata": {},
   "source": [
    "#### We named the documents in numerical form for easy access ,\n",
    "#### Querry 1 has indexes from 0 to 19\n",
    "#### Querry 2 has indexes from 20 to 39\n",
    "#### Querry 3 has indexes from 40 to 59 "
   ]
  },
  {
   "cell_type": "code",
   "execution_count": null,
   "metadata": {},
   "outputs": [],
   "source": [
    "dict = {} #creating a dictionary\n",
    "for i in range(60):\n",
    "    for j in range(len(list1[i])):\n",
    "        if list1[i][j] not in dict:\n",
    "            dict[list1[i][j]] = {i:1}\n",
    "        if list1[i][j] in dict:\n",
    "            if i in dict[list1[i][j]].keys():\n",
    "                a = dict[list1[i][j]][i] \n",
    "                a = a + 1\n",
    "                dict[list1[i][j]][i] = a\n",
    "            else:\n",
    "                dict[list1[i][j]][i] = 1\n",
    "            \n",
    "dict\n",
    "# for a word , a:b in dict refers to it has occurred in 'a' document 'b' times "
   ]
  },
  {
   "cell_type": "markdown",
   "metadata": {},
   "source": [
    "### Creating the list of frequencies a word occurred in all the documents.\n",
    "### Index of a number in freq list is same as the index of the key in dict"
   ]
  },
  {
   "cell_type": "code",
   "execution_count": null,
   "metadata": {},
   "outputs": [],
   "source": [
    "freq = []\n",
    "for i in dict.keys():\n",
    "    c = 0\n",
    "    for j in dict[i].values():\n",
    "        c = c + j\n",
    "    freq.append(c)\n",
    "print(freq)    "
   ]
  },
  {
   "cell_type": "markdown",
   "metadata": {},
   "source": [
    "## 2) Posting lists "
   ]
  },
  {
   "cell_type": "code",
   "execution_count": null,
   "metadata": {},
   "outputs": [],
   "source": [
    "# creating a posting list for a term\n",
    "def create_posting_list(word):\n",
    "    ps   = []\n",
    "    i = 0\n",
    "    while(i<60):\n",
    "        if i in dict[word].keys():\n",
    "            ps.append(i)\n",
    "        i = i+1\n",
    "    return ps\n",
    "\n",
    "\n",
    "\n",
    "\n",
    "def or_postings(posting1, posting2):\n",
    "    p1 = 0\n",
    "    p2 = 0\n",
    "    result = list()\n",
    "    while p1 < len(posting1) and p2 < len(posting2):\n",
    "        if posting1[p1] == posting2[p2]:\n",
    "            result.append(posting1[p1])\n",
    "            p1 += 1\n",
    "            p2 += 1\n",
    "        elif posting1[p1] > posting2[p2]:\n",
    "            result.append(posting2[p2])\n",
    "            p2 += 1\n",
    "        else:\n",
    "            result.append(posting1[p1])\n",
    "            p1 += 1\n",
    "    while p1 < len(posting1):\n",
    "        result.append(posting1[p1])\n",
    "        p1 += 1\n",
    "    while p2 < len(posting2):\n",
    "        result.append(posting2[p2])\n",
    "        p2 += 1\n",
    "    return result\n",
    "\n",
    "\n",
    "def and_postings(posting1, posting2):\n",
    "    p1 = 0\n",
    "    p2 = 0\n",
    "    result = list()\n",
    "    while p1 < len(posting1) and p2 < len(posting2):\n",
    "        if posting1[p1] == posting2[p2]:\n",
    "            result.append(posting1[p1])\n",
    "            p1 += 1\n",
    "            p2 += 1\n",
    "        elif posting1[p1] > posting2[p2]:\n",
    "            p2 += 1\n",
    "        else:\n",
    "            p1 += 1\n",
    "    return result\n",
    "\n",
    "\n",
    "# creating posting lists from the given querry as it is\n",
    "# you can also use by word unlike we use sentences . either way it works.\n",
    "def query_to_and_postings_results(query):\n",
    "    # proessing the query\n",
    "    ps_item = procesd_data_string(query)\n",
    "    ps_item\n",
    "    ps_lists = []\n",
    "    # creating the posting lists for the processed query\n",
    "    for i in range(len(ps_item)):\n",
    "        ps_lists[i] = create_posting_list(ps_item[i])\n",
    "    # re-arranging the posting lists according to length of the posting lists of each word in the query\n",
    "    # re-arranging the lists from smallest length to largest length\n",
    "    yy = len(ps_lists)\n",
    "    for k in range(yy):\n",
    "        for j in range(k+1,yy):\n",
    "            if len(ps_lists[k])>len(ps_lists[j]):\n",
    "                swap(ps_lists[k],ps_lists[j])\n",
    "    const = 0\n",
    "    const1 = yy - 1\n",
    "    ps_3 = []\n",
    "    while(const < const1):\n",
    "        if const == 0:\n",
    "            ps_1 = ps_lists[0]\n",
    "            ps_2 = ps_lists[1] \n",
    "        else :\n",
    "            ps_1 = ps_3\n",
    "            ps_2 = ps_lists[const + 1]\n",
    "            \n",
    "        ps_3 = and_postings(ps_1,ps_2)\n",
    "    return ps_3\n",
    "         "
   ]
  },
  {
   "cell_type": "code",
   "execution_count": null,
   "metadata": {},
   "outputs": [],
   "source": [
    "query1 = 'IIT AND Computer'\n",
    "pslist = query_to_and_postings_results(query1)"
   ]
  },
  {
   "cell_type": "code",
   "execution_count": null,
   "metadata": {},
   "outputs": [],
   "source": []
  }
 ],
 "metadata": {
  "kernelspec": {
   "display_name": "Python 3",
   "language": "python",
   "name": "python3"
  },
  "language_info": {
   "codemirror_mode": {
    "name": "ipython",
    "version": 3
   },
   "file_extension": ".py",
   "mimetype": "text/x-python",
   "name": "python",
   "nbconvert_exporter": "python",
   "pygments_lexer": "ipython3",
   "version": "3.8.3"
  }
 },
 "nbformat": 4,
 "nbformat_minor": 4
}
